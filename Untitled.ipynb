{
 "cells": [
  {
   "cell_type": "code",
   "execution_count": 1,
   "id": "b13dfefb",
   "metadata": {
    "collapsed": true
   },
   "outputs": [
    {
     "name": "stdout",
     "output_type": "stream",
     "text": [
      "Collecting jupyter-dash\n",
      "  Downloading jupyter_dash-0.4.2-py3-none-any.whl (23 kB)\n",
      "Collecting ansi2html\n",
      "  Downloading ansi2html-1.8.0-py3-none-any.whl (16 kB)\n",
      "Requirement already satisfied: flask in c:\\users\\pichau\\appdata\\local\\programs\\python\\python310\\lib\\site-packages (from jupyter-dash) (1.1.2)\n",
      "Requirement already satisfied: requests in c:\\users\\pichau\\appdata\\local\\programs\\python\\python310\\lib\\site-packages (from jupyter-dash) (2.27.1)\n",
      "Requirement already satisfied: ipython in c:\\users\\pichau\\appdata\\local\\programs\\python\\python310\\lib\\site-packages (from jupyter-dash) (7.29.0)\n",
      "Requirement already satisfied: nest-asyncio in c:\\users\\pichau\\appdata\\local\\programs\\python\\python310\\lib\\site-packages (from jupyter-dash) (1.5.6)\n",
      "Collecting dash\n",
      "  Downloading dash-2.7.1-py3-none-any.whl (9.9 MB)\n",
      "     ---------------------------------------- 9.9/9.9 MB 10.4 MB/s eta 0:00:00\n",
      "Collecting retrying\n",
      "  Downloading retrying-1.3.4-py3-none-any.whl (11 kB)\n",
      "Requirement already satisfied: ipykernel in c:\\users\\pichau\\appdata\\local\\programs\\python\\python310\\lib\\site-packages (from jupyter-dash) (6.5.1)\n",
      "Collecting dash-core-components==2.0.0\n",
      "  Downloading dash_core_components-2.0.0-py3-none-any.whl (3.8 kB)\n",
      "Collecting dash-table==5.0.0\n",
      "  Downloading dash_table-5.0.0-py3-none-any.whl (3.9 kB)\n",
      "Collecting dash-html-components==2.0.0\n",
      "  Downloading dash_html_components-2.0.0-py3-none-any.whl (4.1 kB)\n",
      "Requirement already satisfied: plotly>=5.0.0 in c:\\users\\pichau\\appdata\\local\\programs\\python\\python310\\lib\\site-packages (from dash->jupyter-dash) (5.11.0)\n",
      "Requirement already satisfied: Werkzeug>=0.15 in c:\\users\\pichau\\appdata\\local\\programs\\python\\python310\\lib\\site-packages (from flask->jupyter-dash) (2.2.2)\n",
      "Requirement already satisfied: click>=5.1 in c:\\users\\pichau\\appdata\\local\\programs\\python\\python310\\lib\\site-packages (from flask->jupyter-dash) (8.0.3)\n",
      "Requirement already satisfied: itsdangerous>=0.24 in c:\\users\\pichau\\appdata\\local\\programs\\python\\python310\\lib\\site-packages (from flask->jupyter-dash) (2.0.1)\n",
      "Requirement already satisfied: Jinja2>=2.10.1 in c:\\users\\pichau\\appdata\\local\\programs\\python\\python310\\lib\\site-packages (from flask->jupyter-dash) (3.0.3)\n",
      "Requirement already satisfied: debugpy<2.0,>=1.0.0 in c:\\users\\pichau\\appdata\\local\\programs\\python\\python310\\lib\\site-packages (from ipykernel->jupyter-dash) (1.5.1)\n",
      "Requirement already satisfied: matplotlib-inline<0.2.0,>=0.1.0 in c:\\users\\pichau\\appdata\\local\\programs\\python\\python310\\lib\\site-packages (from ipykernel->jupyter-dash) (0.1.3)\n",
      "Requirement already satisfied: traitlets<6.0,>=5.1.0 in c:\\users\\pichau\\appdata\\local\\programs\\python\\python310\\lib\\site-packages (from ipykernel->jupyter-dash) (5.8.0)\n",
      "Requirement already satisfied: tornado<7.0,>=4.2 in c:\\users\\pichau\\appdata\\local\\programs\\python\\python310\\lib\\site-packages (from ipykernel->jupyter-dash) (6.2)\n",
      "Requirement already satisfied: jupyter-client<8.0 in c:\\users\\pichau\\appdata\\local\\programs\\python\\python310\\lib\\site-packages (from ipykernel->jupyter-dash) (7.4.8)\n",
      "Requirement already satisfied: pickleshare in c:\\users\\pichau\\appdata\\local\\programs\\python\\python310\\lib\\site-packages (from ipython->jupyter-dash) (0.7.5)\n",
      "Requirement already satisfied: pygments in c:\\users\\pichau\\appdata\\local\\programs\\python\\python310\\lib\\site-packages (from ipython->jupyter-dash) (2.10.0)\n",
      "Requirement already satisfied: prompt-toolkit!=3.0.0,!=3.0.1,<3.1.0,>=2.0.0 in c:\\users\\pichau\\appdata\\local\\programs\\python\\python310\\lib\\site-packages (from ipython->jupyter-dash) (3.0.22)\n",
      "Requirement already satisfied: colorama in c:\\users\\pichau\\appdata\\local\\programs\\python\\python310\\lib\\site-packages (from ipython->jupyter-dash) (0.4.4)\n",
      "Requirement already satisfied: jedi>=0.16 in c:\\users\\pichau\\appdata\\local\\programs\\python\\python310\\lib\\site-packages (from ipython->jupyter-dash) (0.18.1)\n",
      "Requirement already satisfied: setuptools>=18.5 in c:\\users\\pichau\\appdata\\local\\programs\\python\\python310\\lib\\site-packages (from ipython->jupyter-dash) (59.6.0)\n",
      "Requirement already satisfied: backcall in c:\\users\\pichau\\appdata\\local\\programs\\python\\python310\\lib\\site-packages (from ipython->jupyter-dash) (0.2.0)\n",
      "Requirement already satisfied: decorator in c:\\users\\pichau\\appdata\\local\\programs\\python\\python310\\lib\\site-packages (from ipython->jupyter-dash) (5.1.0)\n",
      "Requirement already satisfied: urllib3<1.27,>=1.21.1 in c:\\users\\pichau\\appdata\\local\\programs\\python\\python310\\lib\\site-packages (from requests->jupyter-dash) (1.26.7)\n",
      "Requirement already satisfied: charset-normalizer~=2.0.0 in c:\\users\\pichau\\appdata\\local\\programs\\python\\python310\\lib\\site-packages (from requests->jupyter-dash) (2.0.12)\n",
      "Requirement already satisfied: idna<4,>=2.5 in c:\\users\\pichau\\appdata\\local\\programs\\python\\python310\\lib\\site-packages (from requests->jupyter-dash) (3.3)\n",
      "Requirement already satisfied: certifi>=2017.4.17 in c:\\users\\pichau\\appdata\\local\\programs\\python\\python310\\lib\\site-packages (from requests->jupyter-dash) (2021.10.8)\n",
      "Requirement already satisfied: six>=1.7.0 in c:\\users\\pichau\\appdata\\local\\programs\\python\\python310\\lib\\site-packages (from retrying->jupyter-dash) (1.16.0)\n",
      "Requirement already satisfied: parso<0.9.0,>=0.8.0 in c:\\users\\pichau\\appdata\\local\\programs\\python\\python310\\lib\\site-packages (from jedi>=0.16->ipython->jupyter-dash) (0.8.2)\n",
      "Requirement already satisfied: MarkupSafe>=2.0 in c:\\users\\pichau\\appdata\\local\\programs\\python\\python310\\lib\\site-packages (from Jinja2>=2.10.1->flask->jupyter-dash) (2.1.1)\n",
      "Requirement already satisfied: entrypoints in c:\\users\\pichau\\appdata\\local\\programs\\python\\python310\\lib\\site-packages (from jupyter-client<8.0->ipykernel->jupyter-dash) (0.4)\n",
      "Requirement already satisfied: jupyter-core>=4.9.2 in c:\\users\\pichau\\appdata\\local\\programs\\python\\python310\\lib\\site-packages (from jupyter-client<8.0->ipykernel->jupyter-dash) (5.1.0)\n",
      "Requirement already satisfied: pyzmq>=23.0 in c:\\users\\pichau\\appdata\\local\\programs\\python\\python310\\lib\\site-packages (from jupyter-client<8.0->ipykernel->jupyter-dash) (24.0.1)\n",
      "Requirement already satisfied: python-dateutil>=2.8.2 in c:\\users\\pichau\\appdata\\local\\programs\\python\\python310\\lib\\site-packages (from jupyter-client<8.0->ipykernel->jupyter-dash) (2.8.2)\n",
      "Requirement already satisfied: tenacity>=6.2.0 in c:\\users\\pichau\\appdata\\local\\programs\\python\\python310\\lib\\site-packages (from plotly>=5.0.0->dash->jupyter-dash) (8.1.0)\n",
      "Requirement already satisfied: wcwidth in c:\\users\\pichau\\appdata\\local\\programs\\python\\python310\\lib\\site-packages (from prompt-toolkit!=3.0.0,!=3.0.1,<3.1.0,>=2.0.0->ipython->jupyter-dash) (0.2.5)\n",
      "Requirement already satisfied: pywin32>=1.0 in c:\\users\\pichau\\appdata\\local\\programs\\python\\python310\\lib\\site-packages (from jupyter-core>=4.9.2->jupyter-client<8.0->ipykernel->jupyter-dash) (302)\n",
      "Requirement already satisfied: platformdirs>=2.5 in c:\\users\\pichau\\appdata\\local\\programs\\python\\python310\\lib\\site-packages (from jupyter-core>=4.9.2->jupyter-client<8.0->ipykernel->jupyter-dash) (2.5.4)\n",
      "Installing collected packages: dash-table, dash-html-components, dash-core-components, retrying, ansi2html, dash, jupyter-dash\n",
      "Successfully installed ansi2html-1.8.0 dash-2.7.1 dash-core-components-2.0.0 dash-html-components-2.0.0 dash-table-5.0.0 jupyter-dash-0.4.2 retrying-1.3.4\n"
     ]
    }
   ],
   "source": [
    "!pip install jupyter-dash"
   ]
  },
  {
   "cell_type": "code",
   "execution_count": 1,
   "id": "f86762d2",
   "metadata": {},
   "outputs": [
    {
     "name": "stderr",
     "output_type": "stream",
     "text": [
      "C:\\Users\\Pichau\\AppData\\Local\\Temp/ipykernel_7212/1241298224.py:2: UserWarning: \n",
      "The dash_core_components package is deprecated. Please replace\n",
      "`import dash_core_components as dcc` with `from dash import dcc`\n",
      "  import dash_core_components as dcc\n",
      "C:\\Users\\Pichau\\AppData\\Local\\Temp/ipykernel_7212/1241298224.py:3: UserWarning: \n",
      "The dash_html_components package is deprecated. Please replace\n",
      "`import dash_html_components as html` with `from dash import html`\n",
      "  import dash_html_components as html\n"
     ]
    }
   ],
   "source": [
    "from jupyter_dash import JupyterDash\n",
    "import dash_core_components as dcc\n",
    "import dash_html_components as html\n",
    "import plotly.express as px\n",
    "import pandas as pd"
   ]
  },
  {
   "cell_type": "code",
   "execution_count": 2,
   "id": "22328279",
   "metadata": {},
   "outputs": [
    {
     "data": {
      "text/html": [
       "<div>\n",
       "<style scoped>\n",
       "    .dataframe tbody tr th:only-of-type {\n",
       "        vertical-align: middle;\n",
       "    }\n",
       "\n",
       "    .dataframe tbody tr th {\n",
       "        vertical-align: top;\n",
       "    }\n",
       "\n",
       "    .dataframe thead th {\n",
       "        text-align: right;\n",
       "    }\n",
       "</style>\n",
       "<table border=\"1\" class=\"dataframe\">\n",
       "  <thead>\n",
       "    <tr style=\"text-align: right;\">\n",
       "      <th></th>\n",
       "      <th>Frutas</th>\n",
       "      <th>Qtd</th>\n",
       "      <th>UF</th>\n",
       "    </tr>\n",
       "  </thead>\n",
       "  <tbody>\n",
       "    <tr>\n",
       "      <th>0</th>\n",
       "      <td>Maçãs</td>\n",
       "      <td>4</td>\n",
       "      <td>RJ</td>\n",
       "    </tr>\n",
       "    <tr>\n",
       "      <th>1</th>\n",
       "      <td>Laranjas</td>\n",
       "      <td>1</td>\n",
       "      <td>RJ</td>\n",
       "    </tr>\n",
       "    <tr>\n",
       "      <th>2</th>\n",
       "      <td>Bananas</td>\n",
       "      <td>2</td>\n",
       "      <td>RJ</td>\n",
       "    </tr>\n",
       "    <tr>\n",
       "      <th>3</th>\n",
       "      <td>Maçãs</td>\n",
       "      <td>2</td>\n",
       "      <td>SP</td>\n",
       "    </tr>\n",
       "    <tr>\n",
       "      <th>4</th>\n",
       "      <td>Laranjas</td>\n",
       "      <td>4</td>\n",
       "      <td>SP</td>\n",
       "    </tr>\n",
       "    <tr>\n",
       "      <th>5</th>\n",
       "      <td>Bananas</td>\n",
       "      <td>5</td>\n",
       "      <td>SP</td>\n",
       "    </tr>\n",
       "  </tbody>\n",
       "</table>\n",
       "</div>"
      ],
      "text/plain": [
       "     Frutas  Qtd  UF\n",
       "0     Maçãs    4  RJ\n",
       "1  Laranjas    1  RJ\n",
       "2   Bananas    2  RJ\n",
       "3     Maçãs    2  SP\n",
       "4  Laranjas    4  SP\n",
       "5   Bananas    5  SP"
      ]
     },
     "execution_count": 2,
     "metadata": {},
     "output_type": "execute_result"
    }
   ],
   "source": [
    "df = pd.DataFrame({\n",
    "    \"Frutas\": [\"Maçãs\", \"Laranjas\", \"Bananas\", \"Maçãs\", \"Laranjas\", \"Bananas\"],\n",
    "    \"Qtd\": [4, 1, 2, 2, 4, 5],\n",
    "    \"UF\": [\"RJ\", \"RJ\", \"RJ\", \"SP\", \"SP\", \"SP\"]\n",
    "})\n",
    "\n",
    "df"
   ]
  },
  {
   "cell_type": "code",
   "execution_count": 3,
   "id": "899d5a9e",
   "metadata": {},
   "outputs": [],
   "source": [
    "external_stylesheets = ['https://codepen.io/chriddyp/pen/bWLwgP.css']\n",
    "app = JupyterDash(__name__,external_stylesheets=external_stylesheets)\n",
    "\n",
    "fig = px.bar(df, x=\"Frutas\", y=\"Qtd\", color=\"UF\", barmode='group')\n",
    "\n",
    "app.layout = html.Div(children =[\n",
    "    html.H1(children='Oi Dash!'),\n",
    "\n",
    "    html.Div(children='''\n",
    "    Dash para aplicativos web com Python\n",
    "    '''),\n",
    "\n",
    "    dcc.Graph(\n",
    "        id='example-graph',\n",
    "        figure=fig\n",
    "    )                                 \n",
    "])"
   ]
  },
  {
   "cell_type": "code",
   "execution_count": 4,
   "id": "51cad32f",
   "metadata": {},
   "outputs": [
    {
     "name": "stdout",
     "output_type": "stream",
     "text": [
      "Dash app running on http://127.0.0.1:8050/\n"
     ]
    }
   ],
   "source": [
    "app.run_server(mode='external')"
   ]
  }
 ],
 "metadata": {
  "kernelspec": {
   "display_name": "Python 3 (ipykernel)",
   "language": "python",
   "name": "python3"
  },
  "language_info": {
   "codemirror_mode": {
    "name": "ipython",
    "version": 3
   },
   "file_extension": ".py",
   "mimetype": "text/x-python",
   "name": "python",
   "nbconvert_exporter": "python",
   "pygments_lexer": "ipython3",
   "version": "3.10.1"
  }
 },
 "nbformat": 4,
 "nbformat_minor": 5
}
