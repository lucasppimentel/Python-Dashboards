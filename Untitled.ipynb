{
 "cells": [
  {
   "cell_type": "code",
   "execution_count": 1,
   "id": "9c2fef13",
   "metadata": {},
   "outputs": [],
   "source": [
    "from paho.mqtt import client as mqtt_client"
   ]
  },
  {
   "cell_type": "code",
   "execution_count": 2,
   "id": "5b55be26",
   "metadata": {},
   "outputs": [
    {
     "name": "stdout",
     "output_type": "stream",
     "text": [
      "Send `Oi rs` to topic `GeniIoT_FEM/Dashboard`\n",
      "Connected to MQTT Broker!\n"
     ]
    }
   ],
   "source": [
    "broker = \"broker.hivemq.com\"\n",
    "topic = \"GeniIoT_FEM/Dashboard\"\n",
    "client_id = \"Dashboard-GeniIoT\"\n",
    "port = 1883\n",
    "\n",
    "def connect_mqtt():\n",
    "    def on_connect(client, userdata, flags, rc):\n",
    "        if rc == 0:\n",
    "            print(\"Connected to MQTT Broker!\")\n",
    "        else:\n",
    "            print(\"Failed to connect, return code %d\\n\", rc)\n",
    "\n",
    "    client = mqtt_client.Client(client_id)\n",
    "    #client.username_pw_set(username, password)\n",
    "    client.on_connect = on_connect\n",
    "    client.connect(broker, port)\n",
    "    return client\n",
    "\n",
    "def publish(client, msg):\n",
    "    result = client.publish(topic, msg)\n",
    "    # result: [0, 1]\n",
    "    status = result[0]\n",
    "    if status == 0:\n",
    "        print(f\"Send `{msg}` to topic `{topic}`\")\n",
    "    else:\n",
    "        print(f\"Failed to send message to topic {topic}\")\n",
    "\n",
    "\n",
    "client = connect_mqtt()\n",
    "client.loop_start()\n",
    "publish(client, \"Oi rs\")"
   ]
  },
  {
   "cell_type": "code",
   "execution_count": 18,
   "id": "999e6c4b",
   "metadata": {
    "collapsed": true
   },
   "outputs": [
    {
     "data": {
      "text/plain": [
       "439"
      ]
     },
     "execution_count": 18,
     "metadata": {},
     "output_type": "execute_result"
    },
    {
     "name": "stdout",
     "output_type": "stream",
     "text": [
      "Connected to MQTT Broker!\n",
      "Connected to MQTT Broker!\n",
      "Connected to MQTT Broker!\n",
      "Connected to MQTT Broker!\n",
      "Connected to MQTT Broker!\n",
      "Connected to MQTT Broker!\n",
      "Connected to MQTT Broker!\n",
      "Connected to MQTT Broker!\n",
      "Connected to MQTT Broker!\n",
      "Connected to MQTT Broker!\n",
      "Connected to MQTT Broker!\n",
      "Connected to MQTT Broker!\n",
      "Connected to MQTT Broker!\n",
      "Connected to MQTT Broker!\n",
      "Connected to MQTT Broker!\n",
      "Connected to MQTT Broker!\n",
      "Connected to MQTT Broker!\n",
      "Connected to MQTT Broker!\n",
      "Connected to MQTT Broker!\n",
      "Connected to MQTT Broker!\n",
      "Connected to MQTT Broker!\n",
      "Connected to MQTT Broker!\n",
      "Connected to MQTT Broker!\n",
      "Connected to MQTT Broker!\n",
      "Connected to MQTT Broker!\n",
      "Connected to MQTT Broker!\n",
      "Connected to MQTT Broker!\n",
      "Connected to MQTT Broker!\n",
      "Connected to MQTT Broker!\n",
      "Connected to MQTT Broker!\n",
      "Connected to MQTT Broker!\n",
      "Connected to MQTT Broker!\n",
      "Connected to MQTT Broker!\n",
      "Connected to MQTT Broker!\n",
      "Connected to MQTT Broker!\n",
      "Connected to MQTT Broker!\n",
      "Connected to MQTT Broker!\n",
      "Connected to MQTT Broker!\n",
      "Connected to MQTT Broker!\n",
      "Connected to MQTT Broker!\n",
      "Connected to MQTT Broker!\n",
      "Connected to MQTT Broker!\n",
      "Connected to MQTT Broker!\n",
      "Connected to MQTT Broker!\n",
      "Connected to MQTT Broker!\n",
      "Connected to MQTT Broker!\n",
      "Connected to MQTT Broker!\n",
      "Connected to MQTT Broker!\n",
      "Connected to MQTT Broker!\n",
      "Connected to MQTT Broker!\n",
      "Connected to MQTT Broker!\n",
      "Connected to MQTT Broker!\n",
      "Connected to MQTT Broker!\n",
      "Connected to MQTT Broker!\n",
      "Connected to MQTT Broker!\n",
      "Connected to MQTT Broker!\n",
      "Connected to MQTT Broker!\n",
      "Connected to MQTT Broker!\n",
      "Connected to MQTT Broker!\n",
      "Connected to MQTT Broker!\n",
      "Connected to MQTT Broker!\n",
      "Connected to MQTT Broker!\n",
      "Connected to MQTT Broker!\n",
      "Connected to MQTT Broker!\n",
      "Connected to MQTT Broker!\n",
      "Connected to MQTT Broker!\n",
      "Connected to MQTT Broker!\n",
      "Connected to MQTT Broker!\n",
      "Connected to MQTT Broker!\n"
     ]
    }
   ],
   "source": [
    "from datetime import datetime\n",
    "\n",
    "dt =\"20230118 11:13:59\"\n",
    "dt = datetime.strptime(dt, '%Y%m%d %H:%M:%S')\n",
    "current_dateTime = datetime.now()\n",
    "\n",
    "dif = current_dateTime - dt\n",
    "dif.seconds"
   ]
  },
  {
   "cell_type": "code",
   "execution_count": null,
   "id": "f1375ba2",
   "metadata": {},
   "outputs": [
    {
     "name": "stdout",
     "output_type": "stream",
     "text": [
      "Dash is running on http://127.0.0.1:8050/\n",
      "\n",
      "Dash is running on http://127.0.0.1:8050/\n",
      "\n",
      " * Serving Flask app \"__main__\" (lazy loading)\n",
      " * Environment: production\n",
      "\u001b[31m   WARNING: This is a development server. Do not use it in a production deployment.\u001b[0m\n",
      "\u001b[2m   Use a production WSGI server instead.\u001b[0m\n",
      " * Debug mode: off\n"
     ]
    },
    {
     "name": "stderr",
     "output_type": "stream",
     "text": [
      " * Running on http://127.0.0.1:8050/ (Press CTRL+C to quit)\n",
      "127.0.0.1 - - [18/Jan/2023 14:02:16] \"\u001b[37mGET / HTTP/1.1\u001b[0m\" 200 -\n",
      "127.0.0.1 - - [18/Jan/2023 14:02:16] \"\u001b[37mGET /_dash-component-suites/dash_mqtt/dash_mqtt.v0_0_1m1674061244.min.js HTTP/1.1\u001b[0m\" 200 -\n",
      "127.0.0.1 - - [18/Jan/2023 14:02:16] \"\u001b[37mGET /_dash-component-suites/dash/deps/prop-types@15.v2_7_1m1673574647.8.1.min.js HTTP/1.1\u001b[0m\" 200 -\n",
      "127.0.0.1 - - [18/Jan/2023 14:02:16] \"\u001b[37mGET /_dash-component-suites/dash/deps/react@16.v2_7_1m1673574647.14.0.min.js HTTP/1.1\u001b[0m\" 200 -\n",
      "127.0.0.1 - - [18/Jan/2023 14:02:16] \"\u001b[37mGET /_dash-component-suites/dash/deps/react-dom@16.v2_7_1m1673574647.14.0.min.js HTTP/1.1\u001b[0m\" 200 -\n",
      "127.0.0.1 - - [18/Jan/2023 14:02:16] \"\u001b[37mGET /_dash-component-suites/dash/dash-renderer/build/dash_renderer.v2_7_1m1673574647.min.js HTTP/1.1\u001b[0m\" 200 -\n",
      "127.0.0.1 - - [18/Jan/2023 14:02:16] \"\u001b[37mGET /_dash-layout HTTP/1.1\u001b[0m\" 200 -\n",
      "127.0.0.1 - - [18/Jan/2023 14:02:16] \"\u001b[37mGET /_dash-dependencies HTTP/1.1\u001b[0m\" 200 -\n",
      "127.0.0.1 - - [18/Jan/2023 14:02:16] \"\u001b[37mPOST /_dash-update-component HTTP/1.1\u001b[0m\" 204 -\n",
      "127.0.0.1 - - [18/Jan/2023 14:02:20] \"\u001b[37mPOST /_dash-update-component HTTP/1.1\u001b[0m\" 200 -\n"
     ]
    }
   ],
   "source": []
  }
 ],
 "metadata": {
  "kernelspec": {
   "display_name": "Python 3 (ipykernel)",
   "language": "python",
   "name": "python3"
  },
  "language_info": {
   "codemirror_mode": {
    "name": "ipython",
    "version": 3
   },
   "file_extension": ".py",
   "mimetype": "text/x-python",
   "name": "python",
   "nbconvert_exporter": "python",
   "pygments_lexer": "ipython3",
   "version": "3.10.1"
  }
 },
 "nbformat": 4,
 "nbformat_minor": 5
}
